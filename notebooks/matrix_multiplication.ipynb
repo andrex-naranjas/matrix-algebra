{
 "cells": [
  {
   "cell_type": "markdown",
   "id": "3fda8e37",
   "metadata": {},
   "source": [
    "# Operaciones de matrices\n",
    "En este notebook puede llamar a las distintas clases y funciones de nuestro framework. El codigo en python debe estar hecho en clases y funciones, este notebook solo debe verse como un \"envolvente\".\n",
    "Las funciones/clases que estan importadas se dividen en dos clases: 1) las que ya vienen de librerias generales; 2) de las librerias que nosotros estamos creando. Estas ultimas se importan justo despues del comentario \"framework includes\".\n"
   ]
  },
  {
   "cell_type": "code",
   "execution_count": 22,
   "id": "5ccbe41a",
   "metadata": {},
   "outputs": [],
   "source": [
    "import numpy as np\n",
    "import sympy\n",
    "init_printing(use_unicode=True)\n",
    "# framework includes\n",
    "from matrix_algebra.matrix_product import MatrixMultiplication"
   ]
  },
  {
   "cell_type": "code",
   "execution_count": 23,
   "id": "3b135d96",
   "metadata": {},
   "outputs": [],
   "source": [
    "np.random.seed(27)\n",
    "A = np.random.randint(1,10,size = (3,3))\n",
    "B = np.random.randint(1,10,size = (3,2))"
   ]
  },
  {
   "cell_type": "code",
   "execution_count": 24,
   "id": "b5cb6bdb",
   "metadata": {},
   "outputs": [
    {
     "name": "stdout",
     "output_type": "stream",
     "text": [
      "Matrix multiplication starts!\n"
     ]
    }
   ],
   "source": [
    "prod_matrices = MatrixMultiplication(A, B)\n",
    "producto_nativo = prod_matrices.multiply_matrix_native()"
   ]
  },
  {
   "cell_type": "code",
   "execution_count": 28,
   "id": "704ba43c",
   "metadata": {},
   "outputs": [
    {
     "name": "stdout",
     "output_type": "stream",
     "text": [
      "Matrix Producto de A y B\n"
     ]
    },
    {
     "data": {
      "image/png": "[encoded data removed]",
      "text/latex": [
       "$\\displaystyle \\left[\\begin{matrix}89 & 107\\\\47 & 49\\\\40 & 44\\end{matrix}\\right]$"
      ],
      "text/plain": [
       "⎡89  107⎤\n",
       "⎢       ⎥\n",
       "⎢47  49 ⎥\n",
       "⎢       ⎥\n",
       "⎣40  44 ⎦"
      ]
     },
     "execution_count": 28,
     "metadata": {},
     "output_type": "execute_result"
    }
   ],
   "source": [
    "producto_nativo_sympy = sympy.Matrix(producto_nativo)\n",
    "print(\"Matrix Producto de A y B\")\n",
    "producto_nativo_sympy"
   ]
  },
  {
   "cell_type": "code",
   "execution_count": null,
   "id": "21eb61f2",
   "metadata": {},
   "outputs": [],
   "source": []
  }
 ],
 "metadata": {
  "kernelspec": {
   "display_name": "Python 3 (ipykernel)",
   "language": "python",
   "name": "python3"
  },
  "language_info": {
   "codemirror_mode": {
    "name": "ipython",
    "version": 3
   },
   "file_extension": ".py",
   "mimetype": "text/x-python",
   "name": "python",
   "nbconvert_exporter": "python",
   "pygments_lexer": "ipython3",
   "version": "3.10.4"
  }
 },
 "nbformat": 4,
 "nbformat_minor": 5
}
